{
 "cells": [
  {
   "cell_type": "markdown",
   "metadata": {
    "collapsed": true
   },
   "source": [
    "## Hacker News Data Set\n",
    "Hacker News is similar to Reddit, but for topics related to technology and startup ideas."
   ]
  },
  {
   "cell_type": "code",
   "execution_count": 5,
   "metadata": {
    "collapsed": false
   },
   "outputs": [
    {
     "name": "stdout",
     "output_type": "stream",
     "text": [
      "[['id', 'title', 'url', 'num_points', 'num_comments', 'author', 'created_at'], ['12224879', 'Interactive Dynamic Video', 'http://www.interactivedynamicvideo.com/', '386', '52', 'ne0phyte', '8/4/2016 11:52'], ['10975351', 'How to Use Open Source and Shut the Fuck Up at the Same Time', 'http://hueniverse.com/2016/01/26/how-to-use-open-source-and-shut-the-fuck-up-at-the-same-time/', '39', '10', 'josep2', '1/26/2016 19:30'], ['11964716', \"Florida DJs May Face Felony for April Fools' Water Joke\", 'http://www.thewire.com/entertainment/2013/04/florida-djs-april-fools-water-joke/63798/', '2', '1', 'vezycash', '6/23/2016 22:20']]\n"
     ]
    }
   ],
   "source": [
    "from csv import reader\n",
    "file = open('hacker_news.csv')\n",
    "opened_file = reader(file)\n",
    "hn = list(opened_file)\n",
    "print(hn[0:4])"
   ]
  },
  {
   "cell_type": "code",
   "execution_count": 6,
   "metadata": {
    "collapsed": false
   },
   "outputs": [
    {
     "data": {
      "text/plain": [
       "['id', 'title', 'url', 'num_points', 'num_comments', 'author', 'created_at']"
      ]
     },
     "execution_count": 6,
     "metadata": {},
     "output_type": "execute_result"
    }
   ],
   "source": [
    "headers = hn[0]\n",
    "hn = hn[1:]\n",
    "headers"
   ]
  },
  {
   "cell_type": "code",
   "execution_count": 7,
   "metadata": {
    "collapsed": false
   },
   "outputs": [
    {
     "data": {
      "text/plain": [
       "[['12224879',\n",
       "  'Interactive Dynamic Video',\n",
       "  'http://www.interactivedynamicvideo.com/',\n",
       "  '386',\n",
       "  '52',\n",
       "  'ne0phyte',\n",
       "  '8/4/2016 11:52'],\n",
       " ['10975351',\n",
       "  'How to Use Open Source and Shut the Fuck Up at the Same Time',\n",
       "  'http://hueniverse.com/2016/01/26/how-to-use-open-source-and-shut-the-fuck-up-at-the-same-time/',\n",
       "  '39',\n",
       "  '10',\n",
       "  'josep2',\n",
       "  '1/26/2016 19:30'],\n",
       " ['11964716',\n",
       "  \"Florida DJs May Face Felony for April Fools' Water Joke\",\n",
       "  'http://www.thewire.com/entertainment/2013/04/florida-djs-april-fools-water-joke/63798/',\n",
       "  '2',\n",
       "  '1',\n",
       "  'vezycash',\n",
       "  '6/23/2016 22:20'],\n",
       " ['11919867',\n",
       "  'Technology ventures: From Idea to Enterprise',\n",
       "  'https://www.amazon.com/Technology-Ventures-Enterprise-Thomas-Byers/dp/0073523429',\n",
       "  '3',\n",
       "  '1',\n",
       "  'hswarna',\n",
       "  '6/17/2016 0:01'],\n",
       " ['10301696',\n",
       "  'Note by Note: The Making of Steinway L1037 (2007)',\n",
       "  'http://www.nytimes.com/2007/11/07/movies/07stein.html?_r=0',\n",
       "  '8',\n",
       "  '2',\n",
       "  'walterbell',\n",
       "  '9/30/2015 4:12']]"
      ]
     },
     "execution_count": 7,
     "metadata": {},
     "output_type": "execute_result"
    }
   ],
   "source": [
    "hn[:5]"
   ]
  },
  {
   "cell_type": "code",
   "execution_count": 16,
   "metadata": {
    "collapsed": true
   },
   "outputs": [],
   "source": [
    "ask_posts, show_posts, other_posts = [],[],[]"
   ]
  },
  {
   "cell_type": "code",
   "execution_count": 17,
   "metadata": {
    "collapsed": false
   },
   "outputs": [],
   "source": [
    "for rows in hn:\n",
    "    title = rows[1]\n",
    "    if title.lower().startswith('ask hn'):\n",
    "        ask_posts.append(rows)\n",
    "    elif title.lower().startswith('show hn'):\n",
    "        show_posts.append(rows)\n",
    "    else:\n",
    "        other_posts.append(rows)"
   ]
  },
  {
   "cell_type": "code",
   "execution_count": 18,
   "metadata": {
    "collapsed": false
   },
   "outputs": [
    {
     "name": "stdout",
     "output_type": "stream",
     "text": [
      "1744 1162 17194\n"
     ]
    }
   ],
   "source": [
    "print(len(ask_posts),len(show_posts),len(other_posts))"
   ]
  },
  {
   "cell_type": "code",
   "execution_count": 20,
   "metadata": {
    "collapsed": false
   },
   "outputs": [],
   "source": [
    "total_ask_comments = 0\n",
    "for posts in ask_posts:\n",
    "    total_ask_comments += int(posts[4])"
   ]
  },
  {
   "cell_type": "code",
   "execution_count": 21,
   "metadata": {
    "collapsed": false
   },
   "outputs": [
    {
     "data": {
      "text/plain": [
       "24483"
      ]
     },
     "execution_count": 21,
     "metadata": {},
     "output_type": "execute_result"
    }
   ],
   "source": [
    "total_ask_comments"
   ]
  },
  {
   "cell_type": "code",
   "execution_count": 22,
   "metadata": {
    "collapsed": false
   },
   "outputs": [
    {
     "name": "stdout",
     "output_type": "stream",
     "text": [
      "14.038417431192661\n"
     ]
    }
   ],
   "source": [
    "avg_ask_comments = total_ask_comments / len(ask_posts)\n",
    "print(avg_ask_comments)"
   ]
  },
  {
   "cell_type": "code",
   "execution_count": 24,
   "metadata": {
    "collapsed": true
   },
   "outputs": [],
   "source": [
    "total_show_comments = 0\n",
    "for posts in show_posts:\n",
    "    total_show_comments += int(posts[4])"
   ]
  },
  {
   "cell_type": "code",
   "execution_count": 27,
   "metadata": {
    "collapsed": false
   },
   "outputs": [
    {
     "name": "stdout",
     "output_type": "stream",
     "text": [
      "10.31669535283993\n"
     ]
    }
   ],
   "source": [
    "avg_show_comments = total_show_comments / len(show_posts)\n",
    "print(avg_show_comments)"
   ]
  },
  {
   "cell_type": "markdown",
   "metadata": {},
   "source": [
    "## Comment Analysis\n",
    "\n",
    "From above analysis, it is clear that ask posts on average get more comments when compared to show posts. Now based on this analysis, in the further posts we will explore the ask posts."
   ]
  },
  {
   "cell_type": "code",
   "execution_count": 31,
   "metadata": {
    "collapsed": true
   },
   "outputs": [],
   "source": [
    "import datetime as dt"
   ]
  },
  {
   "cell_type": "code",
   "execution_count": 32,
   "metadata": {
    "collapsed": true
   },
   "outputs": [],
   "source": [
    "result_list = []"
   ]
  },
  {
   "cell_type": "code",
   "execution_count": 33,
   "metadata": {
    "collapsed": false
   },
   "outputs": [],
   "source": [
    "for posts in ask_posts:\n",
    "    result_list.append([posts[6],int(posts[4])])"
   ]
  },
  {
   "cell_type": "code",
   "execution_count": 35,
   "metadata": {
    "collapsed": false
   },
   "outputs": [],
   "source": [
    "counts_by_hours = {}\n",
    "comments_by_hour = {}\n",
    "for row in result_list:\n",
    "    hour = row[0]\n",
    "    hour = dt.datetime.strptime(hour, \"%m/%d/%Y %H:%M\").strftime(\"%H\")\n",
    "    if hour in counts_by_hours:\n",
    "        counts_by_hours[hour] += 1\n",
    "        comments_by_hour[hour] += row[1]\n",
    "    else:\n",
    "        counts_by_hours[hour] = 1\n",
    "        comments_by_hour[hour] = row[1]"
   ]
  },
  {
   "cell_type": "code",
   "execution_count": 36,
   "metadata": {
    "collapsed": false
   },
   "outputs": [
    {
     "name": "stdout",
     "output_type": "stream",
     "text": [
      "{'16': 108, '11': 58, '20': 80, '14': 107, '05': 46, '10': 59, '08': 48, '21': 109, '09': 45, '00': 55, '12': 73, '02': 58, '23': 68, '07': 34, '13': 85, '01': 60, '17': 100, '19': 110, '04': 47, '22': 71, '06': 44, '18': 109, '03': 54, '15': 116} {'16': 1814, '11': 641, '20': 1722, '14': 1416, '05': 464, '10': 793, '08': 492, '21': 1745, '09': 251, '00': 447, '12': 687, '02': 1381, '23': 543, '07': 267, '13': 1253, '01': 683, '17': 1146, '19': 1188, '04': 337, '22': 479, '06': 397, '18': 1439, '03': 421, '15': 4477}\n"
     ]
    }
   ],
   "source": [
    "print(counts_by_hours, comments_by_hour)"
   ]
  },
  {
   "cell_type": "code",
   "execution_count": 38,
   "metadata": {
    "collapsed": false
   },
   "outputs": [],
   "source": [
    "avg_by_hour = []\n",
    "for key in counts_by_hours:\n",
    "    avg_by_hour.append([key, (comments_by_hour[key]/counts_by_hours[key])])"
   ]
  },
  {
   "cell_type": "code",
   "execution_count": 39,
   "metadata": {
    "collapsed": false
   },
   "outputs": [
    {
     "data": {
      "text/plain": [
       "[['16', 16.796296296296298],\n",
       " ['11', 11.051724137931034],\n",
       " ['20', 21.525],\n",
       " ['14', 13.233644859813085],\n",
       " ['05', 10.08695652173913],\n",
       " ['10', 13.440677966101696],\n",
       " ['08', 10.25],\n",
       " ['21', 16.009174311926607],\n",
       " ['09', 5.5777777777777775],\n",
       " ['00', 8.127272727272727],\n",
       " ['12', 9.41095890410959],\n",
       " ['02', 23.810344827586206],\n",
       " ['23', 7.985294117647059],\n",
       " ['07', 7.852941176470588],\n",
       " ['13', 14.741176470588234],\n",
       " ['01', 11.383333333333333],\n",
       " ['17', 11.46],\n",
       " ['19', 10.8],\n",
       " ['04', 7.170212765957447],\n",
       " ['22', 6.746478873239437],\n",
       " ['06', 9.022727272727273],\n",
       " ['18', 13.20183486238532],\n",
       " ['03', 7.796296296296297],\n",
       " ['15', 38.5948275862069]]"
      ]
     },
     "execution_count": 39,
     "metadata": {},
     "output_type": "execute_result"
    }
   ],
   "source": [
    "avg_by_hour"
   ]
  },
  {
   "cell_type": "code",
   "execution_count": 40,
   "metadata": {
    "collapsed": false
   },
   "outputs": [
    {
     "data": {
      "text/plain": [
       "[[16.796296296296298, '16'],\n",
       " [11.051724137931034, '11'],\n",
       " [21.525, '20'],\n",
       " [13.233644859813085, '14'],\n",
       " [10.08695652173913, '05'],\n",
       " [13.440677966101696, '10'],\n",
       " [10.25, '08'],\n",
       " [16.009174311926607, '21'],\n",
       " [5.5777777777777775, '09'],\n",
       " [8.127272727272727, '00'],\n",
       " [9.41095890410959, '12'],\n",
       " [23.810344827586206, '02'],\n",
       " [7.985294117647059, '23'],\n",
       " [7.852941176470588, '07'],\n",
       " [14.741176470588234, '13'],\n",
       " [11.383333333333333, '01'],\n",
       " [11.46, '17'],\n",
       " [10.8, '19'],\n",
       " [7.170212765957447, '04'],\n",
       " [6.746478873239437, '22'],\n",
       " [9.022727272727273, '06'],\n",
       " [13.20183486238532, '18'],\n",
       " [7.796296296296297, '03'],\n",
       " [38.5948275862069, '15']]"
      ]
     },
     "execution_count": 40,
     "metadata": {},
     "output_type": "execute_result"
    }
   ],
   "source": [
    "swap_avg_by_hour = []\n",
    "for items in avg_by_hour:\n",
    "    swap_avg_by_hour.append([items[1],items[0]])\n",
    "swap_avg_by_hour"
   ]
  },
  {
   "cell_type": "code",
   "execution_count": 44,
   "metadata": {
    "collapsed": false
   },
   "outputs": [
    {
     "name": "stdout",
     "output_type": "stream",
     "text": [
      "Top 5 Hours for Ask Posts Comments\n"
     ]
    },
    {
     "data": {
      "text/plain": [
       "[[38.5948275862069, '15'],\n",
       " [23.810344827586206, '02'],\n",
       " [21.525, '20'],\n",
       " [16.796296296296298, '16'],\n",
       " [16.009174311926607, '21']]"
      ]
     },
     "execution_count": 44,
     "metadata": {},
     "output_type": "execute_result"
    }
   ],
   "source": [
    "sorted_swap = sorted(swap_avg_by_hour, reverse = True)\n",
    "print(\"Top 5 Hours for Ask Posts Comments\")\n",
    "sorted_swap[:5]"
   ]
  },
  {
   "cell_type": "code",
   "execution_count": 47,
   "metadata": {
    "collapsed": true
   },
   "outputs": [],
   "source": [
    "template = \"{hour}: {avg:.2f} average comments per post\"\n",
    "date_format = \"%m/%d/%Y %H:%M\""
   ]
  },
  {
   "cell_type": "code",
   "execution_count": 48,
   "metadata": {
    "collapsed": false
   },
   "outputs": [
    {
     "name": "stdout",
     "output_type": "stream",
     "text": [
      "15: 38.59 average comments per post\n",
      "02: 23.81 average comments per post\n",
      "20: 21.52 average comments per post\n",
      "16: 16.80 average comments per post\n",
      "21: 16.01 average comments per post\n"
     ]
    }
   ],
   "source": [
    "for items in sorted_swap[:5]:\n",
    "    hour = items[1]\n",
    "    avg = items[0]\n",
    "    print(str.format(template,hour=hour,avg=avg))"
   ]
  },
  {
   "cell_type": "markdown",
   "metadata": {},
   "source": [
    "## Comment Analysis - 2\n",
    "Based on the average number of comment per each hour a person is more likely to get a comment if the ask-post is posted between 3PM to 4PM."
   ]
  }
 ],
 "metadata": {
  "kernelspec": {
   "display_name": "Python 3",
   "language": "python",
   "name": "python3"
  },
  "language_info": {
   "codemirror_mode": {
    "name": "ipython",
    "version": 3
   },
   "file_extension": ".py",
   "mimetype": "text/x-python",
   "name": "python",
   "nbconvert_exporter": "python",
   "pygments_lexer": "ipython3",
   "version": "3.4.3"
  }
 },
 "nbformat": 4,
 "nbformat_minor": 2
}
